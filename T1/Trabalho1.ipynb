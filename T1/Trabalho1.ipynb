{
 "cells": [
  {
   "cell_type": "markdown",
   "metadata": {},
   "source": [
    "# TRABALHO 1 - Computação Gráfica"
   ]
  },
  {
   "cell_type": "markdown",
   "metadata": {},
   "source": [
    "><pre>\n",
    "><b>Alunos:</b>                         <b>NUSP:</b>  \n",
    ">Michelle Wingter da Silva       10783243\n",
    ">Juliano Fantozzi                00000000</pre>"
   ]
  },
  {
   "cell_type": "markdown",
   "metadata": {},
   "source": [
    "### Objetivo do trabalho:\n",
    "Desenvolver um programa envolvendo os conceitos sobre transformações geométricas 2D,\n",
    "conforme requisitos abaixo.\n",
    "### Requisitos do trabalho:\n",
    "1. O programa deve conter 5 ou mais objetos.\n",
    "2. Cada objeto deve ter sua própria matriz de transformação composta pelas\n",
    "transformações primárias.\n",
    "3. As transformações geométricas de escala, rotação e translação devem ser\n",
    "aplicadas.\n",
    "4. Usar teclado para aplicar translação em pelo menos 1 objeto.\n",
    "5. Usar teclado para aplicar rotação em pelo menos 1 objeto.\n",
    "6. Usar teclado para aplicar escala em pelo menos 1 objeto.\n",
    "7. Os seus objetos devem ser uma composição de diferentes primitivas. Na prática,\n",
    "isso significa que o seu objeto não deve ser apenas um triângulo, quadrado e\n",
    "círculo. Por exemplo, um cata-vento 2D com rotação nas pás será aceito (pois é um\n",
    "objeto composto pelas primitivas). Apenas um triângulo rotacionando não será\n",
    "aceito.\n",
    "8. O programa deve ter um objetivo bem definido, ou seja, uma ação a ser executada\n",
    "pelo usuário, com início, meio e fim."
   ]
  },
  {
   "cell_type": "markdown",
   "metadata": {},
   "source": [
    "# IMPLEMENTAÇÃO:"
   ]
  },
  {
   "cell_type": "markdown",
   "metadata": {},
   "source": [
    "### Primeiro, vamos importar as bibliotecas necessárias.\n",
    "Verifique no código anterior um script para instalar as dependências necessárias (OpenGL e GLFW) antes de prosseguir."
   ]
  },
  {
   "cell_type": "code",
   "execution_count": 1,
   "metadata": {},
   "outputs": [],
   "source": [
    "import glfw\n",
    "from OpenGL.GL import *\n",
    "import OpenGL.GL.shaders\n",
    "import numpy as np\n",
    "import math"
   ]
  },
  {
   "cell_type": "markdown",
   "metadata": {},
   "source": [
    "### Inicializando janela"
   ]
  },
  {
   "cell_type": "code",
   "execution_count": 2,
   "metadata": {},
   "outputs": [],
   "source": [
    "glfw.init()\n",
    "glfw.window_hint(glfw.VISIBLE, glfw.FALSE);\n",
    "window = glfw.create_window(720, 600, \"Cores\", None, None)\n",
    "glfw.make_context_current(window)"
   ]
  },
  {
   "cell_type": "markdown",
   "metadata": {},
   "source": [
    "### GLSL (OpenGL Shading Language)\n",
    "\n",
    "Aqui veremos nosso primeiro código GLSL.\n",
    "\n",
    "É uma linguagem de shading de alto nível baseada na linguagem de programação C.\n",
    "\n",
    "Nós estamos escrevendo código GLSL como se \"strings\" de uma variável (mas podemos ler de arquivos texto). Esse código, depois, terá que ser compilado e linkado ao nosso programa. \n",
    "\n",
    "Iremos aprender GLSL conforme a necessidade do curso. Usarmos uma versão do GLSL mais antiga, compatível com muitos dispositivos."
   ]
  },
  {
   "cell_type": "markdown",
   "metadata": {},
   "source": [
    "### GLSL para Vertex Shader\n",
    "\n",
    "No Pipeline programável, podemos interagir com Vertex Shaders.\n",
    "\n",
    "No código abaixo, estamos fazendo o seguinte:\n",
    "\n",
    "* Definindo uma variável chamada position do tipo vec2.\n",
    "* Definindo uma variável chamada mat_transformation do tipo mat4 (matriz 4x4).\n",
    "* Usamos vec2, pois nosso programa (na CPU) irá enviar apenas duas coordenadas para plotar um ponto. Podemos mandar três coordenadas (vec3) e até mesmo quatro coordenadas (vec4).\n",
    "* void main() é o ponto de entrada do nosso programa (função principal)\n",
    "* gl_Position é uma variável especial do GLSL. Variáveis que começam com 'gl_' são desse tipo. Nesse caso, determina a posição de um vértice. Observe que todo vértice tem 4 coordenadas, por isso nós combinamos nossa variável vec2 com uma variável vec4. Além disso, nós modificamos nosso vetor com base em uma matriz de transformação, conforme estudado na Aula05."
   ]
  },
  {
   "cell_type": "code",
   "execution_count": 3,
   "metadata": {},
   "outputs": [],
   "source": [
    "vertex_code = \"\"\"\n",
    "        attribute vec2 position;\n",
    "        uniform mat4 mat_transformation;\n",
    "        void main(){\n",
    "            gl_Position = mat_transformation * vec4(position,0.0,10.0);\n",
    "        }\n",
    "        \"\"\""
   ]
  },
  {
   "cell_type": "markdown",
   "metadata": {},
   "source": [
    "### GLSL para Fragment Shader\n",
    "\n",
    "No Pipeline programável, podemos interagir com Fragment Shaders.\n",
    "\n",
    "No código abaixo, estamos fazendo o seguinte:\n",
    "\n",
    "* void main() é o ponto de entrada do nosso programa (função principal)\n",
    "* gl_FragColor é uma variável especial do GLSL. Variáveis que começam com 'gl_' são desse tipo. Nesse caso, determina a cor de um fragmento. Nesse caso é um ponto, mas poderia ser outro objeto (ponto, linha, triangulos, etc)."
   ]
  },
  {
   "cell_type": "markdown",
   "metadata": {},
   "source": [
    "### Possibilitando modificar a cor.\n",
    "\n",
    "Nos exemplos anteriores, a variável gl_FragColor estava definida de forma fixa (com cor R=0, G=0, B=0).\n",
    "\n",
    "Agora, nós vamos criar uma variável do tipo \"uniform\", de quatro posições (vec4), para receber o dado de cor do nosso programa rodando em CPU."
   ]
  },
  {
   "cell_type": "code",
   "execution_count": 4,
   "metadata": {},
   "outputs": [],
   "source": [
    "fragment_code = \"\"\"\n",
    "        uniform vec4 color;\n",
    "        void main(){\n",
    "            gl_FragColor = color;\n",
    "        }\n",
    "        \"\"\""
   ]
  },
  {
   "cell_type": "markdown",
   "metadata": {},
   "source": [
    "### Requisitando slot para a GPU para nossos programas Vertex e Fragment Shaders"
   ]
  },
  {
   "cell_type": "code",
   "execution_count": 5,
   "metadata": {},
   "outputs": [],
   "source": [
    "# Request a program and shader slots from GPU\n",
    "program  = glCreateProgram()\n",
    "vertex   = glCreateShader(GL_VERTEX_SHADER)\n",
    "fragment = glCreateShader(GL_FRAGMENT_SHADER)\n"
   ]
  },
  {
   "cell_type": "markdown",
   "metadata": {},
   "source": [
    "### Associando nosso código-fonte aos slots solicitados"
   ]
  },
  {
   "cell_type": "code",
   "execution_count": 6,
   "metadata": {},
   "outputs": [],
   "source": [
    "# Set shaders source\n",
    "glShaderSource(vertex, vertex_code)\n",
    "glShaderSource(fragment, fragment_code)"
   ]
  },
  {
   "cell_type": "markdown",
   "metadata": {},
   "source": [
    "### Compilando o Vertex Shader\n",
    "\n",
    "Se há algum erro em nosso programa Vertex Shader, nosso app para por aqui."
   ]
  },
  {
   "cell_type": "code",
   "execution_count": 7,
   "metadata": {},
   "outputs": [],
   "source": [
    "# Compile shaders\n",
    "glCompileShader(vertex)\n",
    "if not glGetShaderiv(vertex, GL_COMPILE_STATUS):\n",
    "    error = glGetShaderInfoLog(vertex).decode()\n",
    "    print(error)\n",
    "    raise RuntimeError(\"Erro de compilacao do Vertex Shader\")\n"
   ]
  },
  {
   "cell_type": "markdown",
   "metadata": {},
   "source": [
    "### Compilando o Fragment Shader\n",
    "\n",
    "Se há algum erro em nosso programa Fragment Shader, nosso app para por aqui."
   ]
  },
  {
   "cell_type": "code",
   "execution_count": 8,
   "metadata": {},
   "outputs": [],
   "source": [
    "glCompileShader(fragment)\n",
    "if not glGetShaderiv(fragment, GL_COMPILE_STATUS):\n",
    "    error = glGetShaderInfoLog(fragment).decode()\n",
    "    print(error)\n",
    "    raise RuntimeError(\"Erro de compilacao do Fragment Shader\")"
   ]
  },
  {
   "cell_type": "markdown",
   "metadata": {},
   "source": [
    "### Associando os programas compilado ao programa principal"
   ]
  },
  {
   "cell_type": "code",
   "execution_count": 9,
   "metadata": {},
   "outputs": [],
   "source": [
    "# Attach shader objects to the program\n",
    "glAttachShader(program, vertex)\n",
    "glAttachShader(program, fragment)\n"
   ]
  },
  {
   "cell_type": "markdown",
   "metadata": {},
   "source": [
    "### Linkagem do programa"
   ]
  },
  {
   "cell_type": "code",
   "execution_count": 10,
   "metadata": {},
   "outputs": [],
   "source": [
    "# Build program\n",
    "glLinkProgram(program)\n",
    "if not glGetProgramiv(program, GL_LINK_STATUS):\n",
    "    print(glGetProgramInfoLog(program))\n",
    "    raise RuntimeError('Linking error')\n",
    "    \n",
    "# Make program the default program\n",
    "glUseProgram(program)"
   ]
  },
  {
   "cell_type": "markdown",
   "metadata": {},
   "source": [
    "### Preparando dados para enviar a GPU\n",
    "\n",
    "Nesse momento, nós compilamos nossos Vertex e Program Shaders para que a GPU possa processá-los.\n",
    "\n",
    "Por outro lado, as informações de vértices geralmente estão na CPU e devem ser transmitidas para a GPU.\n"
   ]
  },
  {
   "cell_type": "code",
   "execution_count": 11,
   "metadata": {},
   "outputs": [],
   "source": [
    "# preparando espaço para 3 vértices usando 2 coordenadas (x,y)\n",
    "vertices = np.zeros(40, [(\"position\", np.float32, 2)])"
   ]
  },
  {
   "cell_type": "code",
   "execution_count": 12,
   "metadata": {},
   "outputs": [],
   "source": [
    "# preenchendo as coordenadas de cada vértice de uma ESTRELA \n",
    "'''\n",
    "                            (-0.5, -0.5), # vertice 3 QUADRADO\n",
    "                            (-0.5, +0.5), # vertice 4\n",
    "                            (+0.0, -0.5), # vertice 5\n",
    "                            (+0.5, +0.5), # vertice 6\n",
    "                            (+0.5, -0.5), # vertice 7'''\n",
    "vertices['position'] = [\n",
    "    \n",
    "                            #CATAVENTO\n",
    "                            (+0.0, +0.0), # vertice 1 RETANGULO\n",
    "                            (+0.3, +0.0), # vertice 2\n",
    "                            (+0.3, +6.0), # vertice 3\n",
    "                            (+0.0, +6.0), # vertice 4\n",
    "                            (+0.0, +0.0), # vertice 5\n",
    "    \n",
    "                            (+0.15, +6.0), # vertice 6 TRIANGULOS\n",
    "                            (+2.0, +7.0), # vertice 7\n",
    "                            (+2.0, +5.0), # vertice 8\n",
    "    \n",
    "                            (+0.15, +6.0), # vertice 9\n",
    "                            (+1.15, +8.0), # vertice 10\n",
    "                            (-0.75, +8.0), # vertice 11\n",
    "    \n",
    "                            (+0.15, +6.0), # vertice 12\n",
    "                            (-2.0, +7.0), # vertice 13\n",
    "                            (-2.0, +5.0), # vertice 14\n",
    "    \n",
    "                            (+0.15, +6.0), # vertice 15    \n",
    "                            (+1.15, +4.0), # vertice 16    \n",
    "                            (-0.75, +4.0), # vertice 17\n",
    "    \n",
    "                            #CASINHA\n",
    "                            (+5.0, +0.0), # vertice 18 PAREDE\n",
    "                            (+9.0, +0.0), # vertice 19\n",
    "                            (+9.0, +6.0), # vertice 20\n",
    "                            (+5.0, +6.0), # vertice 21\n",
    "                            (+5.0, +0.0), # vertice 22\n",
    "    \n",
    "                            (+5.9, +3.9), # vertice 23 JANELA - batente\n",
    "                            (+7.1, +3.9), # vertice 24\n",
    "                            (+7.1, +5.1), # vertice 25\n",
    "                            (+5.9, +5.1), # vertice 26\n",
    "                            (+5.9, +3.9), # vertice 27\n",
    "    \n",
    "                            (+6.0, +4.0), # vertice 28 JANELA - vidro\n",
    "                            (+7.0, +4.0), # vertice 29\n",
    "                            (+7.0, +5.0), # vertice 30\n",
    "                            (+6.0, +5.0), # vertice 31\n",
    "                            (+6.0, +4.0), # vertice 32\n",
    "    \n",
    "                            (+6.0, +0.0), # vertice 33 PORTA\n",
    "                            (+8.0, +0.0), # vertice 34\n",
    "                            (+8.0, +3.5), # vertice 35\n",
    "                            (+6.0, +3.5), # vertice 36\n",
    "                            (+6.0, +0.0), # vertice 37\n",
    "                            \n",
    "                            (+4.5, +6.0), # vertice 38 TELHADO\n",
    "                            (+9.5, +6.0), # vertice 39\n",
    "                            (+7.0, +9.0), # vertice 40\n",
    "                        ]"
   ]
  },
  {
   "cell_type": "markdown",
   "metadata": {},
   "source": [
    "### Para enviar nossos dados da CPU para a GPU, precisamos requisitar um slot."
   ]
  },
  {
   "cell_type": "code",
   "execution_count": 13,
   "metadata": {},
   "outputs": [],
   "source": [
    "# Request a buffer slot from GPU\n",
    "buffer = glGenBuffers(1)\n",
    "# Make this buffer the default one\n",
    "glBindBuffer(GL_ARRAY_BUFFER, buffer)\n"
   ]
  },
  {
   "cell_type": "markdown",
   "metadata": {},
   "source": [
    "### Abaixo, nós enviamos todo o conteúdo da variável vertices.\n",
    "\n",
    "Veja os parâmetros da função glBufferData [https://www.khronos.org/registry/OpenGL-Refpages/gl4/html/glBufferData.xhtml]"
   ]
  },
  {
   "cell_type": "code",
   "execution_count": 14,
   "metadata": {},
   "outputs": [],
   "source": [
    "# Upload data\n",
    "glBufferData(GL_ARRAY_BUFFER, vertices.nbytes, vertices, GL_DYNAMIC_DRAW)\n",
    "glBindBuffer(GL_ARRAY_BUFFER, buffer)"
   ]
  },
  {
   "cell_type": "markdown",
   "metadata": {},
   "source": [
    "### Associando variáveis do programa GLSL (Vertex Shaders) com nossos dados\n",
    "\n",
    "Primeiro, definimos o byte inicial e o offset dos dados."
   ]
  },
  {
   "cell_type": "code",
   "execution_count": 15,
   "metadata": {},
   "outputs": [],
   "source": [
    "# Bind the position attribute\n",
    "# --------------------------------------\n",
    "stride = vertices.strides[0]\n",
    "offset = ctypes.c_void_p(0)\n"
   ]
  },
  {
   "cell_type": "markdown",
   "metadata": {},
   "source": [
    "Em seguida, soliciamos à GPU a localização da variável \"position\" (que guarda coordenadas dos nossos vértices). Nós definimos essa variável no Vertex Shader."
   ]
  },
  {
   "cell_type": "code",
   "execution_count": 16,
   "metadata": {},
   "outputs": [],
   "source": [
    "loc = glGetAttribLocation(program, \"position\")\n",
    "glEnableVertexAttribArray(loc)"
   ]
  },
  {
   "cell_type": "markdown",
   "metadata": {},
   "source": [
    "A partir da localização anterior, nós indicamos à GPU onde está o conteúdo (via posições stride/offset) para a variável position (aqui identificada na posição loc).\n",
    "\n",
    "Outros parâmetros:\n",
    "\n",
    "* Definimos que possui duas coordenadas\n",
    "* Que cada coordenada é do tipo float (GL_FLOAT)\n",
    "* Que não se deve normalizar a coordenada (False)\n",
    "\n",
    "Mais detalhes: https://www.khronos.org/registry/OpenGL-Refpages/gl4/html/glVertexAttribPointer.xhtml"
   ]
  },
  {
   "cell_type": "code",
   "execution_count": 17,
   "metadata": {},
   "outputs": [],
   "source": [
    "glVertexAttribPointer(loc, 2, GL_FLOAT, False, stride, offset)"
   ]
  },
  {
   "cell_type": "markdown",
   "metadata": {},
   "source": [
    "###  Novidade aqui! Vamos pegar a localização da variável color (uniform) para que possamos alterá-la em nosso laço da janela!"
   ]
  },
  {
   "cell_type": "code",
   "execution_count": 18,
   "metadata": {},
   "outputs": [],
   "source": [
    "loc_color = glGetUniformLocation(program, \"color\")\n",
    "R = 0.0\n",
    "G = 0.0\n",
    "B = 0.0"
   ]
  },
  {
   "cell_type": "markdown",
   "metadata": {},
   "source": [
    "### Capturando eventos de teclado e modificando variáveis para a matriz de transformação"
   ]
  },
  {
   "cell_type": "code",
   "execution_count": 19,
   "metadata": {},
   "outputs": [],
   "source": [
    "# exemplo para matriz de translacao\n",
    "\n",
    "# translação\n",
    "t_x = 0\n",
    "t_y = 0\n",
    "\n",
    "# angulo de rotação\n",
    "r_ang = 0\n",
    "\n",
    "# coeficiente de escala\n",
    "e_x = 0\n",
    "e_y = 0\n",
    "\n",
    "def key_event(window,key,scancode,action,mods):\n",
    "    global t_x, t_y, e_x, e_y\n",
    "    \n",
    "#     print('[key event] key=',key)\n",
    "#     print('[key event] scancode=',scancode)\n",
    "#     print('[key event] action=',action)\n",
    "#     print('[key event] mods=',mods)\n",
    "#     print('-------')\n",
    "\n",
    "    if key == 262: t_x += 0.01 #seta direita\n",
    "    if key == 263: t_x -= 0.01 #seta esquerda\n",
    "        \n",
    "    if key == 265: t_y += 0.01 #seta cima\n",
    "    if key == 264: t_y -= 0.01 #seta baixo\n",
    "        \n",
    "    if (key == 32): #espaço\n",
    "        e_x += 0.01 \n",
    "        e_y += 0.01\n",
    "        \n",
    "    if (key == 342): #alt esquerdo\n",
    "        e_x -= 0.01 \n",
    "        e_y -= 0.01 \n",
    "    \n",
    "glfw.set_key_callback(window,key_event)\n",
    "\n",
    "def mouse_button_callback(window,button,action,mods):\n",
    "    global r_ang\n",
    "    \n",
    "    if (button == 1): #botão direito do mouse\n",
    "        r_ang -= 0.1 \n",
    "        \n",
    "    if (button == 0): #botão esquerdo do mouse\n",
    "        r_ang += 0.1 \n",
    "    \n",
    "glfw.set_mouse_button_callback(window,mouse_button_callback)"
   ]
  },
  {
   "cell_type": "markdown",
   "metadata": {},
   "source": [
    "### Nesse momento, nós exibimos a janela!\n"
   ]
  },
  {
   "cell_type": "code",
   "execution_count": 20,
   "metadata": {},
   "outputs": [],
   "source": [
    "glfw.show_window(window)"
   ]
  },
  {
   "cell_type": "markdown",
   "metadata": {},
   "source": [
    "#### Função que transforma matriz de rotação ou de escala com ponto de referência (transladando antes e depois da transformação) "
   ]
  },
  {
   "cell_type": "code",
   "execution_count": 21,
   "metadata": {},
   "outputs": [],
   "source": [
    "def transf_ponto_referencia(matriz,ref_x,ref_y):\n",
    "\n",
    "    matriz_trans = np.matrix([         [1.0, 0.0, 0.0, ref_x], \n",
    "                                       [0.0, 1.0, 0.0, ref_y], \n",
    "                                       [0.0, 0.0, 1.0, 0.0], \n",
    "                                       [0.0, 0.0, 0.0, 1.0]], np.float32)\n",
    "    \n",
    "    matriz_trans_back = np.matrix([    [1.0, 0.0, 0.0, -1*ref_x], \n",
    "                                       [0.0, 1.0, 0.0, -1*ref_y], \n",
    "                                       [0.0, 0.0, 1.0, 0.0], \n",
    "                                       [0.0, 0.0, 0.0, 1.0]], np.float32)\n",
    "    \n",
    "    return matriz_trans @ matriz @ matriz_trans_back"
   ]
  },
  {
   "cell_type": "markdown",
   "metadata": {},
   "source": [
    "#### Função adicional que multiplica duas matrizes:"
   ]
  },
  {
   "cell_type": "code",
   "execution_count": 22,
   "metadata": {},
   "outputs": [],
   "source": [
    "def multiplica_matriz(a,b):\n",
    "    m_a = a.reshape(4,4)\n",
    "    m_b = b.reshape(4,4)\n",
    "    m_c = np.dor(m_a,m_b)\n",
    "    c = m_c.reshape(1,16)\n",
    "    return c"
   ]
  },
  {
   "cell_type": "markdown",
   "metadata": {},
   "source": [
    "### Loop principal da janela.\n",
    "Enquanto a janela não for fechada, esse laço será executado. É neste espaço que trabalhamos com algumas interações com a OpenGL.\n",
    "\n",
    "A novidade agora é a função glDrawArrays()\n",
    "\n",
    "Tal função recebe o tipo de primitiva (GL_TRIANGLES), o índice inicial do array de vértices (vamos mostrar todos os três vértices, por isso começamos com 0) e a quantidade de vértices ( len(vertices) )."
   ]
  },
  {
   "cell_type": "markdown",
   "metadata": {},
   "source": [
    "### Função que multiplica as 3 matrizes de transformação (translação, escada e rotação)"
   ]
  },
  {
   "cell_type": "code",
   "execution_count": 23,
   "metadata": {},
   "outputs": [],
   "source": [
    "def mat_transf_total(rotate, translation_R, translation_L, scale_R, scale_L):\n",
    "    #Translação pelos botões de seta\n",
    "    mat_translation = np.matrix([   [1.0, 0.0, 0.0, translation_R], \n",
    "                                    [0.0, 1.0, 0.0, translation_L], \n",
    "                                    [0.0, 0.0, 1.0,     0.0      ], \n",
    "                                    [0.0, 0.0, 0.0,     1.0     ]], np.float32)\n",
    "    \n",
    "    #Escala pelos botões shift e space\n",
    "    mat_scale       = np.matrix([   [scale_R,   0.0  , 0.0, 0.0], \n",
    "                                    [0.0,     scale_L, 0.0, 0.0], \n",
    "                                    [0.0,       0.0  , 1.0, 0.0], \n",
    "                                    [0.0,       0.0  , 0.0, 1.0]], np.float32)\n",
    "    \n",
    "    #Rotação pelos botões direito e esquerdo do mouse\n",
    "    angulo = 10*rotate\n",
    "    rad = math.radians(angulo) \n",
    "    c = math.cos(rad)\n",
    "    s = math.sin(rad)\n",
    "    mat_rotate     = np.matrix([ [ c , -s , 0.0, 0.0], \n",
    "                                 [ s ,  c , 0.0, 0.0], \n",
    "                                 [0.0, 0.0, 1.0, 0.0], \n",
    "                                 [0.0, 0.0, 0.0, 1.0]], np.float32)\n",
    "    \n",
    "    \n",
    "    return mat_translation @ mat_scale @ mat_rotate"
   ]
  },
  {
   "cell_type": "code",
   "execution_count": 24,
   "metadata": {},
   "outputs": [],
   "source": [
    "r_ang = 0.01\n",
    "\n",
    "t_x = 0\n",
    "t_y = 0\n",
    "\n",
    "e_x = 1\n",
    "e_y = 1\n",
    "\n",
    "while not glfw.window_should_close(window):\n",
    "    glfw.poll_events() \n",
    "    \n",
    "    glClear(GL_COLOR_BUFFER_BIT) \n",
    "    glClearColor(1.0, 1.0, 1.0, 1.0)\n",
    "    \n",
    "  \n",
    "    #Draw Triangle\n",
    "    #Translação pelos botões de seta\n",
    "    mat_translation = np.matrix([   [1.0, 0.0, 0.0, t_x], \n",
    "                                    [0.0, 1.0, 0.0, t_y], \n",
    "                                    [0.0, 0.0, 1.0, 0.0], \n",
    "                                    [0.0, 0.0, 0.0, 1.0]], np.float32)\n",
    "    \n",
    "    #Escala pelos botões shift e space\n",
    "    s_x = e_x\n",
    "    s_y = e_y\n",
    "    mat_scale       = np.matrix([   [s_x, 0.0, 0.0, 0.0], \n",
    "                                    [0.0, s_y, 0.0, 0.0], \n",
    "                                    [0.0, 0.0, 1.0, 0.0], \n",
    "                                    [0.0, 0.0, 0.0, 1.0]], np.float32)\n",
    "    \n",
    "    #Rotação pelos botões direito e esquerdo do mouse\n",
    "    angulo = 10*r_ang\n",
    "    rad = math.radians(angulo) \n",
    "    c = math.cos(rad)\n",
    "    s = math.sin(rad)\n",
    "    mat_rotate     = np.matrix([   [c,  -s, 0.0, 0.0], \n",
    "                                   [s,   c, 0.0, 0.0], \n",
    "                                 [0.0, 0.0, 1.0, 0.0], \n",
    "                                 [0.0, 0.0, 0.0, 1.0]], np.float32)\n",
    "    \n",
    "    \n",
    "    mat_identidade = np.matrix([    [1.0, 0.0, 0.0, 0.0], \n",
    "                                    [0.0, 1.0, 0.0, 0.0], \n",
    "                                    [0.0, 0.0, 1.0, 0.0], \n",
    "                                    [0.0, 0.0, 0.0, 1.0]], np.float32)\n",
    "    \n",
    "    #matriz que translada, escala e rotaciona\n",
    "    matrizTransf = mat_transf_total(r_ang, t_x, t_y, e_x, e_y)\n",
    "    \n",
    "    \n",
    "    #CATAVENTO\n",
    "    glUniform4f(loc_color, R, G, B, 1.0) ### preto\n",
    "    loc = glGetUniformLocation(program, \"mat_transformation\")\n",
    "    glUniformMatrix4fv(loc, 1, GL_TRUE, mat_identidade)\n",
    "    glDrawArrays(GL_TRIANGLE_STRIP, 0, 5)\n",
    "    \n",
    "\n",
    "    glUniform4f(loc_color, 1, 0, 0, 1.0) ### vermelho\n",
    "    #loc = glGetUniformLocation(program, \"mat_transformation\")\n",
    "    glUniformMatrix4fv(loc, 1, GL_TRUE, transf_ponto_referencia(mat_rotate, 6, 0.15))\n",
    "    glDrawArrays(GL_TRIANGLES, 5, 12)\n",
    " \n",
    "    #CASINHA\n",
    "    glUniform4f(loc_color, 1, 0.75, 0.75, 1.0) ### rosa\n",
    "    #loc = glGetUniformLocation(program, \"mat_transformation\")\n",
    "    #glUniformMatrix4fv(loc, 1, GL_TRUE, mat_identidade)\n",
    "    glDrawArrays(GL_TRIANGLE_STRIP, 17, 5)\n",
    "    \n",
    "    glUniform4f(loc_color, R, G, B, 1.0) ### preta\n",
    "    #loc = glGetUniformLocation(program, \"mat_transformation\")\n",
    "    #glUniformMatrix4fv(loc, 1, GL_TRUE, mat_identidade)\n",
    "    glDrawArrays(GL_TRIANGLE_STRIP, 22, 5)\n",
    "    \n",
    "    glUniform4f(loc_color, 1, 1, 0, 1.0) ### amarela (vai piscar entre amarelo e preto)\n",
    "    #loc = glGetUniformLocation(program, \"mat_transformation\")\n",
    "    #glUniformMatrix4fv(loc, 1, GL_TRUE, mat_identidade)\n",
    "    glDrawArrays(GL_TRIANGLE_STRIP, 27, 5)\n",
    "    \n",
    "    glUniform4f(loc_color, 0.8, 0.5, 0, 1.0) ### marrom\n",
    "    #loc = glGetUniformLocation(program, \"mat_transformation\")\n",
    "    #glUniformMatrix4fv(loc, 1, GL_TRUE, mat_identidade)\n",
    "    glDrawArrays(GL_TRIANGLE_STRIP, 32, 5)\n",
    "    \n",
    "    glUniform4f(loc_color, 1, 0, 0, 1.0) ### vermelho\n",
    "    #loc = glGetUniformLocation(program, \"mat_transformation\")\n",
    "    #glUniformMatrix4fv(loc, 1, GL_TRUE, mat_identidade)\n",
    "    glDrawArrays(GL_TRIANGLES, 37, 3)\n",
    "\n",
    "    glfw.swap_buffers(window)\n",
    "\n",
    "glfw.terminate()"
   ]
  },
  {
   "cell_type": "code",
   "execution_count": null,
   "metadata": {},
   "outputs": [],
   "source": []
  }
 ],
 "metadata": {
  "kernelspec": {
   "display_name": "Python 3",
   "language": "python",
   "name": "python3"
  },
  "language_info": {
   "codemirror_mode": {
    "name": "ipython",
    "version": 3
   },
   "file_extension": ".py",
   "mimetype": "text/x-python",
   "name": "python",
   "nbconvert_exporter": "python",
   "pygments_lexer": "ipython3",
   "version": "3.8.5"
  }
 },
 "nbformat": 4,
 "nbformat_minor": 4
}
